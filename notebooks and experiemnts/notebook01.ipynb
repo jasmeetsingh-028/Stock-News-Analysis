{
 "cells": [
  {
   "cell_type": "markdown",
   "metadata": {},
   "source": [
    "### Installing and importing Depepndencies"
   ]
  },
  {
   "cell_type": "code",
   "execution_count": 2,
   "metadata": {},
   "outputs": [],
   "source": [
    "from transformers import PegasusTokenizer, PegasusForConditionalGeneration  #tokenizer and model\n",
    "from bs4 import BeautifulSoup #for scraping\n",
    "import requests  #for requesting web"
   ]
  },
  {
   "cell_type": "markdown",
   "metadata": {},
   "source": [
    "### Loading Summarization Model"
   ]
  },
  {
   "cell_type": "code",
   "execution_count": 3,
   "metadata": {},
   "outputs": [
    {
     "name": "stderr",
     "output_type": "stream",
     "text": [
      "Downloading spiece.model: 100%|██████████| 1.91M/1.91M [00:00<00:00, 2.43MB/s]\n",
      "Downloading (…)cial_tokens_map.json: 100%|██████████| 1.34k/1.34k [00:00<00:00, 191kB/s]\n",
      "Downloading (…)okenizer_config.json: 100%|██████████| 1.44k/1.44k [00:00<00:00, 151kB/s]\n",
      "Downloading (…)lve/main/config.json: 100%|██████████| 1.27k/1.27k [00:00<00:00, 203kB/s]\n",
      "Downloading model.safetensors: 100%|██████████| 2.28G/2.28G [05:23<00:00, 7.03MB/s]\n",
      "Some weights of PegasusForConditionalGeneration were not initialized from the model checkpoint at human-centered-summarization/financial-summarization-pegasus and are newly initialized: ['model.decoder.embed_positions.weight', 'model.encoder.embed_positions.weight']\n",
      "You should probably TRAIN this model on a down-stream task to be able to use it for predictions and inference.\n"
     ]
    }
   ],
   "source": [
    "model_name = \"human-centered-summarization/financial-summarization-pegasus\"\n",
    "tokenizer = PegasusTokenizer.from_pretrained(model_name)\n",
    "model = PegasusForConditionalGeneration.from_pretrained(model_name) "
   ]
  },
  {
   "cell_type": "markdown",
   "metadata": {},
   "source": [
    "### Summarize a Single article"
   ]
  },
  {
   "cell_type": "code",
   "execution_count": 6,
   "metadata": {},
   "outputs": [],
   "source": [
    "url = \"https://finance.yahoo.com/news/millennial-plumber-got-raise-45-110000225.html\"\n",
    "req = requests.get(url) #making request to get info from the url\n",
    "soup = BeautifulSoup(req.text, \"html.parser\") #to get html elements from the webpage\n",
    "news_paragraphs = soup.find_all('p') #paragraphs- getting <p> </p> tags"
   ]
  },
  {
   "cell_type": "code",
   "execution_count": 8,
   "metadata": {},
   "outputs": [
    {
     "data": {
      "text/plain": [
       "<Response [200]>"
      ]
     },
     "execution_count": 8,
     "metadata": {},
     "output_type": "execute_result"
    }
   ],
   "source": [
    "req\n",
    "#req.txt #contains everything from the webpage"
   ]
  },
  {
   "cell_type": "code",
   "execution_count": 10,
   "metadata": {},
   "outputs": [
    {
     "data": {
      "text/plain": [
       "'Robert Jenkins’ first job as a certified plumber was a dream. After a four-year apprenticeship during which he rotated among four companies, he was hired by a local plumber with a reputation for good pay and a great culture.'"
      ]
     },
     "execution_count": 10,
     "metadata": {},
     "output_type": "execute_result"
    }
   ],
   "source": [
    "news_paragraphs[0].text"
   ]
  },
  {
   "cell_type": "code",
   "execution_count": 18,
   "metadata": {},
   "outputs": [
    {
     "name": "stdout",
     "output_type": "stream",
     "text": [
      "400 Robert Jenkins’ first job as a certified plumber was a dream. After a four-year apprenticeship during which he rotated among four companies, he was hired by a local plumber with a reputation for good pay and a great culture. “It was great,” he recalls, “pay was good, and they supplied trucks and tools, at first.” Jenkins made about $40 hourly servicing small businesses and homes around Eugene, Ore., with trucks and tools provided. A few months after he started, Jenkins, 36, saw the company raise everyone’s pay across the board, to $45 an hour. That’s when the trouble started. Jenkins says the company stopped supplying tools for its workers: “I was told we get paid enough to buy our own tools,” he said. It’s legal in Oregon for companies to make workers buy their own tools, as long as they make over minimum wage—but this was a change to Jenkins’ working conditions, and he felt cheated. He recalled one job that would have required him to buy a press gun to join pipes together—not a cheap outlay. “I buy a lot of my own tools anyway, and some of the biggest ones are $4,000, $5,000. I’m not going to drop that just for a company to take it from me,” he said. Jenkins also clashed with a coworker, who, in Jenkins’ recollection, was frequently rude and belittling to junior colleagues, going so far as to curse them out in front of peers. When Jenkins complained to the company about the problematic employee, he was told the colleague was a high earner and effectively untouchable. Jenkins told Fortune he was “getting less and less happy,” and his “quality of life was getting destroyed.” So, despite having just been promoted, Jenkins quit. “I realized, I’m at one of the best-paying companies in the area; they have the best reputation, and that if I want something different I have to do my own thing,” he said. Jenkins is part of a trend: Payroll processor ADP recently published research showing that people who are promoted are more likely to quit than people who aren’t. It’s a surprising statistic in a job market in which promotions, overall, are rare: Just 4.5% of workers are promoted within two years of being hired, making it much more likely that someone will quit for a different job than advance at their current employer. “We don’t see a lot\n"
     ]
    }
   ],
   "source": [
    "text = [p.text for p in news_paragraphs]\n",
    "##getting 400 words from the news_paragraphs\n",
    "words = ' '.join(text).split(' ')[:400]  #getting 400 words from word list\n",
    "article = ' '.join(words) #converting list to string\n",
    "print(len(words),article)"
   ]
  },
  {
   "cell_type": "code",
   "execution_count": 19,
   "metadata": {},
   "outputs": [],
   "source": [
    "input_ids = tokenizer.encode(article, return_tensors='pt') #encoding to input ids\n",
    "output = model.generate(input_ids, max_length = 55, num_beams = 5, early_stopping= True) #summary length can be adjusted using max_len, num_beams for beam search num_beams= number of most likely possibilities to be considered for generating sentence instead of greedy search, ealry stpping when model reaches certain level of accuracy\n",
    "summary = tokenizer.decode(output[0], skip_special = True)"
   ]
  },
  {
   "cell_type": "code",
   "execution_count": 20,
   "metadata": {},
   "outputs": [
    {
     "name": "stdout",
     "output_type": "stream",
     "text": [
      "<pad>Workers are more likely to quit if they’re promoted, research shows.</s>\n"
     ]
    }
   ],
   "source": [
    "print(summary)"
   ]
  },
  {
   "cell_type": "markdown",
   "metadata": {},
   "source": [
    "### Building a Sentiment Analysis Pipeline"
   ]
  },
  {
   "cell_type": "code",
   "execution_count": 22,
   "metadata": {},
   "outputs": [],
   "source": [
    "tickers = ['AAL', 'RBLX', 'F']"
   ]
  },
  {
   "cell_type": "code",
   "execution_count": 23,
   "metadata": {},
   "outputs": [],
   "source": [
    "def search_news_url(ticker):\n",
    "    search_url = \"https://www.google.com/search?q=yahoo+finance+{}&tbm=nws\".format(ticker)\n",
    "    r = requests.get(search_url)\n",
    "    soup = BeautifulSoup(r.text, 'html.parser')\n",
    "    a_tags = soup.find_all('a')  #a tags represent links - list of a tags\n",
    "    hrefs = [link['href'] for link in a_tags]\n",
    "    return hrefs"
   ]
  },
  {
   "cell_type": "code",
   "execution_count": 27,
   "metadata": {},
   "outputs": [],
   "source": [
    "raw_links = {t: search_news_url(t) for t in tickers}"
   ]
  },
  {
   "cell_type": "code",
   "execution_count": 30,
   "metadata": {},
   "outputs": [
    {
     "data": {
      "text/plain": [
       "dict_keys(['AAL', 'RBLX', 'F'])"
      ]
     },
     "execution_count": 30,
     "metadata": {},
     "output_type": "execute_result"
    }
   ],
   "source": [
    "raw_links.keys()"
   ]
  },
  {
   "cell_type": "code",
   "execution_count": 32,
   "metadata": {},
   "outputs": [
    {
     "data": {
      "text/plain": [
       "['/?sa=X&ved=0ahUKEwiYn_ei2qeBAxXWqJUCHRl4Bk0QOwgC',\n",
       " '/search?q=yahoo+finance+RBLX&tbm=nws&sca_esv=565014946&ie=UTF-8&gbv=1&sei=yboBZdiWAdbR1sQPmfCZ6AQ',\n",
       " '/search?q=yahoo+finance+RBLX&sca_esv=565014946&ie=UTF-8&source=lnms&sa=X&ved=0ahUKEwiYn_ei2qeBAxXWqJUCHRl4Bk0Q_AUIBSgA',\n",
       " '/search?q=yahoo+finance+RBLX&sca_esv=565014946&ie=UTF-8&tbm=vid&source=lnms&sa=X&ved=0ahUKEwiYn_ei2qeBAxXWqJUCHRl4Bk0Q_AUIBygC',\n",
       " '/search?q=yahoo+finance+RBLX&sca_esv=565014946&ie=UTF-8&tbm=isch&source=lnms&sa=X&ved=0ahUKEwiYn_ei2qeBAxXWqJUCHRl4Bk0Q_AUICCgD',\n",
       " 'https://maps.google.com/maps?q=yahoo+finance+RBLX&um=1&ie=UTF-8&sa=X&ved=0ahUKEwiYn_ei2qeBAxXWqJUCHRl4Bk0Q_AUICSgE',\n",
       " '/search?q=yahoo+finance+RBLX&sca_esv=565014946&ie=UTF-8&tbm=shop&source=lnms&sa=X&ved=0ahUKEwiYn_ei2qeBAxXWqJUCHRl4Bk0Q_AUICigF',\n",
       " '/search?q=yahoo+finance+RBLX&sca_esv=565014946&ie=UTF-8&tbm=bks&source=lnms&sa=X&ved=0ahUKEwiYn_ei2qeBAxXWqJUCHRl4Bk0Q_AUICygG',\n",
       " '/advanced_search',\n",
       " '/search?q=yahoo+finance+RBLX&sca_esv=565014946&ie=UTF-8&tbm=nws&source=lnt&tbs=qdr:h&sa=X&ved=0ahUKEwiYn_ei2qeBAxXWqJUCHRl4Bk0QpwUIDQ',\n",
       " '/search?q=yahoo+finance+RBLX&sca_esv=565014946&ie=UTF-8&tbm=nws&source=lnt&tbs=qdr:d&sa=X&ved=0ahUKEwiYn_ei2qeBAxXWqJUCHRl4Bk0QpwUIDg',\n",
       " '/search?q=yahoo+finance+RBLX&sca_esv=565014946&ie=UTF-8&tbm=nws&source=lnt&tbs=qdr:w&sa=X&ved=0ahUKEwiYn_ei2qeBAxXWqJUCHRl4Bk0QpwUIDw',\n",
       " '/search?q=yahoo+finance+RBLX&sca_esv=565014946&ie=UTF-8&tbm=nws&source=lnt&tbs=qdr:m&sa=X&ved=0ahUKEwiYn_ei2qeBAxXWqJUCHRl4Bk0QpwUIEA',\n",
       " '/search?q=yahoo+finance+RBLX&sca_esv=565014946&ie=UTF-8&tbm=nws&source=lnt&tbs=qdr:y&sa=X&ved=0ahUKEwiYn_ei2qeBAxXWqJUCHRl4Bk0QpwUIEQ',\n",
       " '/search?q=yahoo+finance+RBLX&sca_esv=565014946&ie=UTF-8&tbm=nws&source=lnt&tbs=ar:1&sa=X&ved=0ahUKEwiYn_ei2qeBAxXWqJUCHRl4Bk0QpwUIEg',\n",
       " '/search?q=yahoo+finance+RBLX&sca_esv=565014946&ie=UTF-8&tbm=nws&source=lnt&tbs=sbd:1&sa=X&ved=0ahUKEwiYn_ei2qeBAxXWqJUCHRl4Bk0QpwUIFA',\n",
       " '/url?q=https://finance.yahoo.com/news/makes-roblox-corporation-rblx-prospective-075854464.html&sa=U&ved=2ahUKEwiYn_ei2qeBAxXWqJUCHRl4Bk0QxfQBegQIBhAC&usg=AOvVaw3ArRzLRvtue1EparvmbKEn',\n",
       " '/url?q=https://finance.yahoo.com/news/20-most-popular-roblox-games-104212677.html&sa=U&ved=2ahUKEwiYn_ei2qeBAxXWqJUCHRl4Bk0QxfQBegQICRAC&usg=AOvVaw3K1YuTRBxjL4dRpFd5DB0i',\n",
       " '/url?q=https://finance.yahoo.com/news/roblox-rblx-announces-partnership-hamilton-131500111.html&sa=U&ved=2ahUKEwiYn_ei2qeBAxXWqJUCHRl4Bk0QxfQBegQIBxAC&usg=AOvVaw0MwaHrLv8R4X-ZYZljyTIe',\n",
       " '/url?q=https://finance.yahoo.com/news/top-15-universities-learning-crypto-152836505.html&sa=U&ved=2ahUKEwiYn_ei2qeBAxXWqJUCHRl4Bk0QxfQBegQIBRAC&usg=AOvVaw2jIClLIuJd4hlcVjMPi8gq',\n",
       " '/url?q=https://finance.yahoo.com/news/roblox-rblx-stock-sinks-market-221522211.html&sa=U&ved=2ahUKEwiYn_ei2qeBAxXWqJUCHRl4Bk0QxfQBegQIABAC&usg=AOvVaw3aEwg99nRZnvSMEUxrQuHw',\n",
       " '/url?q=https://finance.yahoo.com/news/roblox-corporation-nyse-rblx-favoured-100706957.html&sa=U&ved=2ahUKEwiYn_ei2qeBAxXWqJUCHRl4Bk0QxfQBegQIAxAC&usg=AOvVaw2nCly6eoNYuVZJGl-qZdxT',\n",
       " '/url?q=https://finance.yahoo.com/news/roblox-report-fiscal-2023-second-123000622.html&sa=U&ved=2ahUKEwiYn_ei2qeBAxXWqJUCHRl4Bk0QxfQBegQIARAC&usg=AOvVaw0ylxYO6EER4NLyBX5AehYS',\n",
       " '/url?q=https://finance.yahoo.com/news/roblox-corporation-nyse-rblx-q2-182144299.html&sa=U&ved=2ahUKEwiYn_ei2qeBAxXWqJUCHRl4Bk0QxfQBegQIAhAC&usg=AOvVaw3cPdBEOxhGL71fLPaTYSIP',\n",
       " '/url?q=https://finance.yahoo.com/news/invest-roblox-corporation-rblx-130258797.html&sa=U&ved=2ahUKEwiYn_ei2qeBAxXWqJUCHRl4Bk0QxfQBegQICBAC&usg=AOvVaw3PAlFaOhQRBHfesww0IAAa',\n",
       " '/url?q=https://finance.yahoo.com/news/roblox-rblx-open-beta-set-150000840.html&sa=U&ved=2ahUKEwiYn_ei2qeBAxXWqJUCHRl4Bk0QxfQBegQIBBAC&usg=AOvVaw2Px5Ke7XyJalBbioQZJDEY',\n",
       " '/search?q=yahoo+finance+RBLX&sca_esv=565014946&ie=UTF-8&tbm=nws&ei=yboBZdiWAdbR1sQPmfCZ6AQ&start=10&sa=N',\n",
       " '/url?q=https://support.google.com/websearch%3Fp%3Dws_settings_location%26hl%3Den-IN&sa=U&ved=0ahUKEwiYn_ei2qeBAxXWqJUCHRl4Bk0Qty4IUw&usg=AOvVaw2bQYLClDlvmybcX120qTxL',\n",
       " '/url?q=https://accounts.google.com/ServiceLogin%3Fcontinue%3Dhttps://www.google.com/search%253Fq%253Dyahoo%252Bfinance%252BRBLX%2526tbm%253Dnws%26hl%3Den&sa=U&ved=0ahUKEwiYn_ei2qeBAxXWqJUCHRl4Bk0Qxs8CCFQ&usg=AOvVaw2MT5QPNcdXzRLlUtMR0K7W',\n",
       " 'https://www.google.com/preferences?hl=en-IN&fg=1&sa=X&ved=0ahUKEwiYn_ei2qeBAxXWqJUCHRl4Bk0Q5fUCCFU',\n",
       " 'https://policies.google.com/privacy?hl=en-IN&fg=1',\n",
       " 'https://policies.google.com/terms?hl=en-IN&fg=1',\n",
       " '/setprefs?hl=en&prev=https://www.google.com/search?q%3Dyahoo%2Bfinance%2BRBLX%26tbm%3Dnws%26pccc%3D1&sig=0__ueHVnlcdexBzufIrnZ3YzlCBf8%3D&cs=2&sa=X&ved=0ahUKEwiYn_ei2qeBAxXWqJUCHRl4Bk0QjcAJCFY']"
      ]
     },
     "execution_count": 32,
     "metadata": {},
     "output_type": "execute_result"
    }
   ],
   "source": [
    "raw_links['RBLX']"
   ]
  },
  {
   "cell_type": "markdown",
   "metadata": {},
   "source": [
    "### Strping unwanted urls"
   ]
  },
  {
   "cell_type": "code",
   "execution_count": 31,
   "metadata": {},
   "outputs": [],
   "source": [
    "import re"
   ]
  },
  {
   "cell_type": "code",
   "execution_count": 33,
   "metadata": {},
   "outputs": [],
   "source": [
    "#exclude links with certain words\n",
    "exclude_keywords = ['maps', 'policies', 'prefrences', 'accounts', 'support']"
   ]
  },
  {
   "cell_type": "code",
   "execution_count": 40,
   "metadata": {},
   "outputs": [],
   "source": [
    "def remove_unwanted_url(urls, exclude_list):\n",
    "    val = []\n",
    "    for url in urls: \n",
    "        if 'https://' in url and not any(exclude_word in url for exclude_word in exclude_list):\n",
    "            res = re.findall(r'(https?://\\S+)', url)[0].split('&')[0]\n",
    "            val.append(res)\n",
    "    return list(set(val))"
   ]
  },
  {
   "cell_type": "code",
   "execution_count": 41,
   "metadata": {},
   "outputs": [
    {
     "data": {
      "text/plain": [
       "{'AAL': ['https://finance.yahoo.com/news/most-airline-stocks-hurt-during-130800070.html',\n",
       "  'https://finance.yahoo.com/news/5-airline-stocks-buy-buoyant-121500312.html',\n",
       "  'https://finance.yahoo.com/news/busy-labor-day-weekend-awaits-121000635.html',\n",
       "  'https://finance.yahoo.com/news/3-airline-stocks-watch-amid-131800982.html',\n",
       "  'https://uk.finance.yahoo.com/news/ftse-100-glencore-anglo-american-china-data-152834735.html',\n",
       "  'https://finance.yahoo.com/news/gbp-jpy-forecast-british-pound-140242190.html',\n",
       "  'https://finance.yahoo.com/news/american-airlines-aal-gains-market-215020513.html',\n",
       "  'https://finance.yahoo.com/news/insurance-industry-faces-average-annual-081200418.html',\n",
       "  'https://www.google.com/preferences?hl=en-IN',\n",
       "  'https://www.google.com/search?q%3Dyahoo%2Bfinance%2BAAL%26tbm%3Dnws%26pccc%3D1',\n",
       "  'https://finance.yahoo.com/news/10-travel-stocks-billionaires-loading-192322831.html',\n",
       "  'https://finance.yahoo.com/news/airline-stock-roundup-aals-bearish-154000916.html'],\n",
       " 'RBLX': ['https://finance.yahoo.com/news/roblox-rblx-open-beta-set-150000840.html',\n",
       "  'https://finance.yahoo.com/news/makes-roblox-corporation-rblx-prospective-075854464.html',\n",
       "  'https://finance.yahoo.com/news/roblox-corporation-nyse-rblx-q2-182144299.html',\n",
       "  'https://finance.yahoo.com/news/roblox-rblx-announces-partnership-hamilton-131500111.html',\n",
       "  'https://www.google.com/search?q%3Dyahoo%2Bfinance%2BRBLX%26tbm%3Dnws%26pccc%3D1',\n",
       "  'https://finance.yahoo.com/news/roblox-report-fiscal-2023-second-123000622.html',\n",
       "  'https://finance.yahoo.com/news/roblox-corporation-nyse-rblx-favoured-100706957.html',\n",
       "  'https://finance.yahoo.com/news/invest-roblox-corporation-rblx-130258797.html',\n",
       "  'https://finance.yahoo.com/news/top-15-universities-learning-crypto-152836505.html',\n",
       "  'https://finance.yahoo.com/news/roblox-rblx-stock-sinks-market-221522211.html',\n",
       "  'https://www.google.com/preferences?hl=en-IN',\n",
       "  'https://finance.yahoo.com/news/20-most-popular-roblox-games-104212677.html'],\n",
       " 'F': ['https://finance.yahoo.com/news/58-institutional-ownership-ford-motor-110019338.html',\n",
       "  'https://finance.yahoo.com/news/blackstone-integrates-leading-credit-insurance-114500559.html',\n",
       "  'https://finance.yahoo.com/news/stock-futures-stumble-as-cpi-data-comes-in-hot-stock-market-news-today-124307444.html',\n",
       "  'https://finance.yahoo.com/news/stock-market-today-asian-shares-064937950.html',\n",
       "  'https://finance.yahoo.com/news/oil-prices-hit-2023-highs-as-market-faces-supply-squeeze-153150381.html',\n",
       "  'https://finance.yahoo.com/news/ford-doubles-down-hybrid-pickup-002343938.html',\n",
       "  'https://finance.yahoo.com/news/why-ford-motor-company-f-134006301.html',\n",
       "  'https://finance.yahoo.com/news/zacks-analyst-blog-highlights-general-084400523.html',\n",
       "  'https://www.google.com/search?q%3Dyahoo%2Bfinance%2BF%26tbm%3Dnws%26pccc%3D1',\n",
       "  'https://finance.yahoo.com/news/gas-prices-surged-in-august-amid-oils-supply-crunch-132800277.html',\n",
       "  'https://www.google.com/preferences?hl=en-IN',\n",
       "  'https://finance.yahoo.com/news/taurus-gold-concludes-2023-exploration-100000572.html']}"
      ]
     },
     "execution_count": 41,
     "metadata": {},
     "output_type": "execute_result"
    }
   ],
   "source": [
    "cleaned_urls = {ticker:remove_unwanted_url(raw_links[ticker], exclude_keywords) for ticker in tickers}\n",
    "cleaned_urls"
   ]
  },
  {
   "cell_type": "code",
   "execution_count": null,
   "metadata": {},
   "outputs": [],
   "source": []
  }
 ],
 "metadata": {
  "kernelspec": {
   "display_name": "nlpenv",
   "language": "python",
   "name": "python3"
  },
  "language_info": {
   "codemirror_mode": {
    "name": "ipython",
    "version": 3
   },
   "file_extension": ".py",
   "mimetype": "text/x-python",
   "name": "python",
   "nbconvert_exporter": "python",
   "pygments_lexer": "ipython3",
   "version": "3.8.17"
  },
  "orig_nbformat": 4
 },
 "nbformat": 4,
 "nbformat_minor": 2
}
